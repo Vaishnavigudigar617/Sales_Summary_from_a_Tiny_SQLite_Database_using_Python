{
 "cells": [
  {
   "cell_type": "code",
   "execution_count": 1,
   "id": "44165597-b7f0-4977-8520-23f209ec4967",
   "metadata": {},
   "outputs": [],
   "source": [
    "import sqlite3\n",
    "import pandas as pd\n",
    "import matplotlib.pyplot as plt"
   ]
  },
  {
   "cell_type": "code",
   "execution_count": 2,
   "id": "44140a38-4af0-44ee-9f4c-af48dfc07706",
   "metadata": {},
   "outputs": [],
   "source": [
    "conn = sqlite3.connect('healthcare_data.db')\n",
    "cursor = conn.cursor()"
   ]
  },
  {
   "cell_type": "code",
   "execution_count": 3,
   "id": "9e592a40-8baf-45c4-9a33-07eb843db94e",
   "metadata": {},
   "outputs": [
    {
     "data": {
      "text/plain": [
       "<sqlite3.Cursor at 0x211d41a6fc0>"
      ]
     },
     "execution_count": 3,
     "metadata": {},
     "output_type": "execute_result"
    }
   ],
   "source": [
    "cursor.execute('''\n",
    "    CREATE TABLE IF NOT EXISTS patients_visits (\n",
    "        id INTEGER PRIMARY KEY,\n",
    "        patient_name TEXT,\n",
    "        age INTEGER,\n",
    "        gender TEXT,\n",
    "        diagnosis TEXT,\n",
    "        visit_date DATE,\n",
    "        bill_amount REAL\n",
    "    )\n",
    "''')"
   ]
  },
  {
   "cell_type": "code",
   "execution_count": 4,
   "id": "6f0d03c9-5fc1-442d-a50f-eeb0c34546eb",
   "metadata": {},
   "outputs": [],
   "source": [
    "data = [\n",
    "    ('Asha Rao', 45, 'F', 'Hypertension', '2025-01-15', 1500.0),\n",
    "    ('Rahul Mehta', 30, 'M', 'Diabetes', '2025-02-10', 1200.0),\n",
    "    ('Priya Nair', 60, 'F', 'Heart Disease', '2025-03-05', 3000.0),\n",
    "    ('Vivek Sharma', 50, 'M', 'Hypertension', '2025-01-22', 1600.0),\n",
    "    ('Reena Gupta', 35, 'F', 'Flu', '2025-04-12', 800.0),\n",
    "    ('Ajay Singh', 40, 'M', 'Diabetes', '2025-02-14', 1100.0)\n",
    "]"
   ]
  },
  {
   "cell_type": "code",
   "execution_count": 5,
   "id": "29d0f550-4a77-43cf-884f-ee9b42d4b0ee",
   "metadata": {},
   "outputs": [
    {
     "data": {
      "text/plain": [
       "<sqlite3.Cursor at 0x211d41a6fc0>"
      ]
     },
     "execution_count": 5,
     "metadata": {},
     "output_type": "execute_result"
    }
   ],
   "source": [
    "\n",
    "cursor.executemany('''\n",
    "    INSERT INTO patients_visits (patient_name, age, gender, diagnosis, visit_date, bill_amount)\n",
    "    VALUES (?, ?, ?, ?, ?, ?)\n",
    "''', data)"
   ]
  },
  {
   "cell_type": "code",
   "execution_count": 6,
   "id": "8cc40b1d-ddba-4114-8b3a-93465fce0628",
   "metadata": {},
   "outputs": [],
   "source": [
    "conn.commit()"
   ]
  },
  {
   "cell_type": "code",
   "execution_count": 7,
   "id": "30b1f06f-f583-4a39-8af2-b3fd50d3fb98",
   "metadata": {},
   "outputs": [],
   "source": [
    "query = '''\n",
    "    SELECT diagnosis, COUNT(*) AS total_visits, SUM(bill_amount) AS total_billing\n",
    "    FROM patients_visits\n",
    "    GROUP BY diagnosis\n",
    "'''\n",
    "df = pd.read_sql_query(query, conn)\n",
    "conn.close()"
   ]
  },
  {
   "cell_type": "code",
   "execution_count": 8,
   "id": "bfb633c4-d9bd-4974-b169-aeb60d2aa2f4",
   "metadata": {},
   "outputs": [
    {
     "name": "stdout",
     "output_type": "stream",
     "text": [
      "Healthcare Billing Summary:\n",
      "       diagnosis  total_visits  total_billing\n",
      "0       Diabetes             2         2300.0\n",
      "1            Flu             1          800.0\n",
      "2  Heart Disease             1         3000.0\n",
      "3   Hypertension             2         3100.0\n"
     ]
    }
   ],
   "source": [
    "print(\"Healthcare Billing Summary:\")\n",
    "print(df)"
   ]
  },
  {
   "cell_type": "code",
   "execution_count": 9,
   "id": "ba495bc4-f39b-4cb8-a074-270fee780885",
   "metadata": {},
   "outputs": [
    {
     "data": {
      "image/png": "[encoded data removed]",
      "text/plain": [
       "<Figure size 640x480 with 1 Axes>"
      ]
     },
     "metadata": {},
     "output_type": "display_data"
    }
   ],
   "source": [
    "df.plot(kind='bar', x='diagnosis', y='total_billing', color='salmon', legend=False)\n",
    "plt.title(\"Total Billing by Diagnosis\")\n",
    "plt.ylabel(\"Total Billing (₹)\")\n",
    "plt.tight_layout()\n",
    "plt.savefig(\"healthcare_billing_chart.png\")\n",
    "plt.show()"
   ]
  },
  {
   "cell_type": "code",
   "execution_count": null,
   "id": "edcaef01-48f6-4c9e-958a-cfe2b4dcb53a",
   "metadata": {},
   "outputs": [],
   "source": []
  }
 ],
 "metadata": {
  "kernelspec": {
   "display_name": "Python 3 (ipykernel)",
   "language": "python",
   "name": "python3"
  },
  "language_info": {
   "codemirror_mode": {
    "name": "ipython",
    "version": 3
   },
   "file_extension": ".py",
   "mimetype": "text/x-python",
   "name": "python",
   "nbconvert_exporter": "python",
   "pygments_lexer": "ipython3",
   "version": "3.11.11"
  }
 },
 "nbformat": 4,
 "nbformat_minor": 5
}
